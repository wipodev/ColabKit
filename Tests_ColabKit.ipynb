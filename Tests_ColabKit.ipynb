{
  "cells": [
    {
      "cell_type": "markdown",
      "metadata": {
        "colab_type": "text",
        "id": "view-in-github"
      },
      "source": [
        "<a href=\"https://colab.research.google.com/github/wipodev/ColabKit/blob/main/tests_ColabKit.ipynb\" target=\"_blank\"><img src=\"https://colab.research.google.com/assets/colab-badge.svg\" alt=\"Open In Colab\"/></a>"
      ]
    },
    {
      "cell_type": "markdown",
      "metadata": {
        "id": "M8Ek_V6YoxVr"
      },
      "source": [
        "# 🧪 Tests ColabKit\n",
        "\n",
        "- ColabKit is a Python library designed to improve the experience of working in Google Colab environments.\n",
        "\n",
        "- This Colab is only for demonstration and testing of the library"
      ]
    },
    {
      "cell_type": "code",
      "execution_count": 45,
      "metadata": {
        "cellView": "form",
        "id": "7w_ZwKT9oPHG"
      },
      "outputs": [],
      "source": [
        "#@title # 📦 Install library\n",
        "\n",
        "!pip install jedi # I found a conflict with the version of this library when installing from test.pypi.org, for this reason I installed it first from pypi.org\n",
        "!pip install -i https://test.pypi.org/simple/ ColabKit\n",
        "!pip install yt-dlp\n",
        "\n",
        "from IPython.display import clear_output\n",
        "clear_output()"
      ]
    },
    {
      "cell_type": "code",
      "execution_count": 46,
      "metadata": {
        "cellView": "form",
        "id": "wrhNFgVOuhK-"
      },
      "outputs": [],
      "source": [
        "#@title # 🗂️ Imports library\n",
        "\n",
        "from ColabKit import media, record, utils, widget\n",
        "import yt_dlp"
      ]
    },
    {
      "cell_type": "code",
      "execution_count": 47,
      "metadata": {
        "cellView": "form",
        "id": "oP6RDeQ92E_4"
      },
      "outputs": [],
      "source": [
        "#@title # ⚙️ Configure environment for testing\n",
        "\n",
        "with open(\"test.txt\", 'w') as test:\n",
        "    pass\n",
        "\n",
        "ydl_opts = {'format': 'bestvideo[ext=mp4],bestaudio[ext=m4a]', 'outtmpl': '%(id)s.%(ext)s',}\n",
        "with yt_dlp.YoutubeDL(ydl_opts) as ydl:\n",
        "    info = ydl.extract_info(\"https://www.youtube.com/shorts/hmo61X7kw04\")\n",
        "    video = f\"{info['id']}.mp4\"\n",
        "    audio = f\"{info['id']}.m4a\"\n",
        "    video_conv = f\"{info['id']}.avi\"\n",
        "    audio_conv = f\"{info['id']}.wav\"\n",
        "    video_short = f\"{info['id']}_short.mp4\"\n",
        "    audio_short = f\"{info['id']}_short.m4a\"\n",
        "\n",
        "clear_output()"
      ]
    },
    {
      "cell_type": "code",
      "execution_count": 48,
      "metadata": {
        "cellView": "form",
        "colab": {
          "base_uri": "https://localhost:8080/"
        },
        "id": "sf2c0ll_5Cl0",
        "outputId": "b949b0ec-4d52-4168-e673-140e2ba87bf3"
      },
      "outputs": [
        {
          "name": "stdout",
          "output_type": "stream",
          "text": [
            "\n",
            "---test wait_for_file function---\n",
            "\n",
            "[✔️] Test case wait for file\n",
            "\n",
            "---test file_exists function---\n",
            "\n",
            "[✔️] Test case for an existing file\n",
            "[✔️] Test case for a non-existing file\n",
            "[✔️] Test case for a directory\n",
            "[✔️] Test case for a non-existing directory\n",
            "\n",
            "---test remove_file function---\n",
            "\n",
            "[✔️] Test removing a existing file\n",
            "[✔️] Test removing a non-existing file\n",
            "\n",
            "---test mount_drive function---\n",
            "\n",
            "[❌] \u001b[43m\u001b[101mTest case for mounting drive\u001b[0m\n",
            "\n",
            "---test upload_file function---\n",
            "\n",
            "[❌] \u001b[43m\u001b[101mTest case for upload file\u001b[0m\n"
          ]
        }
      ],
      "source": [
        "#@title # ⚡ Run utils module test\n",
        "\n",
        "print(\"\\n---test wait_for_file function---\\n\")\n",
        "print(\"[✔️] Test case wait for file\" if utils.wait_for_file(\"test.txt\", 10) else \"[❌] \\033[43m\\033[101mTest case wait for file\\033[0m\")\n",
        "print(\"\\n---test file_exists function---\\n\")\n",
        "print(\"[✔️] Test case for an existing file\" if utils.file_exists(\"test.txt\") else \"[❌] \\033[43m\\033[101mTest case for an existing file\\033[0m\")\n",
        "print(\"[✔️] Test case for a non-existing file\" if not utils.file_exists(\"non-existing/test.txt\") else \"[❌] \\033[43m\\033[101mTest case for a non-existing file\\033[0m\")\n",
        "print(\"[✔️] Test case for a directory\" if utils.file_exists(\"/content\") else \"[❌] \\033[43m\\033[101mTest case for a directory\\033[0m\")\n",
        "print(\"[✔️] Test case for a non-existing directory\" if not utils.file_exists(\"/test\") else \"[❌] \\033[43m\\033[101mTest case for a non-existing directory\\033[0m\")\n",
        "print(\"\\n---test remove_file function---\\n\")\n",
        "utils.remove_file(\"test.txt\")\n",
        "print(\"[✔️] Test removing a existing file\" if not utils.file_exists(\"test.txt\") else \"[❌] \\033[43m\\033[101mTest removing a existing file\\033[0m\")\n",
        "print(\"[✔️] Test removing a non-existing file\" if not utils.file_exists(\"test.txt\") else \"[❌] \\033[43m\\033[101mTest removing a non-existing file\\033[0m\")\n",
        "print(\"\\n---test mount_drive function---\\n\")\n",
        "# utils.mount_drive()\n",
        "print(\"[✔️] Test case for mounting drive\" if utils.file_exists(\"/content/drive/MyDrive\") else \"[❌] \\033[43m\\033[101mTest case for mounting drive\\033[0m\")\n",
        "print(\"\\n---test upload_file function---\\n\")\n",
        "# upload_file(\"upload_file.txt\")\n",
        "print(\"[✔️] Test case for upload file\" if utils.file_exists(\"upload_file.txt\") else \"[❌] \\033[43m\\033[101mTest case for upload file\\033[0m\")"
      ]
    },
    {
      "cell_type": "code",
      "execution_count": 49,
      "metadata": {
        "cellView": "form",
        "colab": {
          "base_uri": "https://localhost:8080/",
          "height": 452,
          "referenced_widgets": [
            "8459b58a9edc42a4b18401d047005d6d",
            "5b93df92d73d4c589933a8f67d552c5b",
            "41468c8a1dc1447a9e5a17ff4f27c733",
            "f1e4a9184687449386eade2d865a8371",
            "1a073c1070304def998349c62ea1df13",
            "98f7eaa5090342cf9c2bac0e66369d46",
            "fc61295f3fd6454696a20c109edce15e",
            "ce58f4c95c474f54bdf8ddc379b7cb93",
            "cf5e7281c1a5478c9f3577fa5b843328",
            "f36562c462324ea088ebb2a7cac62bfc",
            "4b6d59e48de844978bed4360de25528f",
            "fd1b4dcd51654aa682260fad4be285a1",
            "6f345559ce8f4e8681c8ac2799d49ce2",
            "4eb46dbdfa1d4f19bac0ff5c818b07ea",
            "17cf56026dca460b855ade3835f40d3b",
            "1578a6723653446aaf486d113fafc3f0",
            "b5cf31229c434023b2ec1563cfbce9d9",
            "4002114580ae4cb3a23913fcdfebfc39"
          ]
        },
        "id": "heEnaBh1w7D8",
        "outputId": "f710ba37-5b9e-4561-f8c6-8512083ef572"
      },
      "outputs": [
        {
          "name": "stdout",
          "output_type": "stream",
          "text": [
            "\n",
            "---test button function---\n",
            "\n",
            "Test case primary button\n"
          ]
        },
        {
          "data": {
            "application/vnd.jupyter.widget-view+json": {
              "model_id": "8459b58a9edc42a4b18401d047005d6d",
              "version_major": 2,
              "version_minor": 0
            },
            "text/plain": [
              "Button(button_style='primary', description='Test Button', icon='erase', style=ButtonStyle(), tooltip='Test Too…"
            ]
          },
          "metadata": {},
          "output_type": "display_data"
        },
        {
          "name": "stdout",
          "output_type": "stream",
          "text": [
            "\n",
            "Test case success button\n"
          ]
        },
        {
          "data": {
            "application/vnd.jupyter.widget-view+json": {
              "model_id": "f1e4a9184687449386eade2d865a8371",
              "version_major": 2,
              "version_minor": 0
            },
            "text/plain": [
              "Button(button_style='success', description='Test Button', icon='erase', style=ButtonStyle(), tooltip='Test Too…"
            ]
          },
          "metadata": {},
          "output_type": "display_data"
        },
        {
          "name": "stdout",
          "output_type": "stream",
          "text": [
            "\n",
            "Test case info button\n"
          ]
        },
        {
          "data": {
            "application/vnd.jupyter.widget-view+json": {
              "model_id": "fc61295f3fd6454696a20c109edce15e",
              "version_major": 2,
              "version_minor": 0
            },
            "text/plain": [
              "Button(button_style='info', description='Test Button', icon='erase', style=ButtonStyle(), tooltip='Test Toolti…"
            ]
          },
          "metadata": {},
          "output_type": "display_data"
        },
        {
          "name": "stdout",
          "output_type": "stream",
          "text": [
            "\n",
            "Test case warning button\n"
          ]
        },
        {
          "data": {
            "application/vnd.jupyter.widget-view+json": {
              "model_id": "f36562c462324ea088ebb2a7cac62bfc",
              "version_major": 2,
              "version_minor": 0
            },
            "text/plain": [
              "Button(button_style='warning', description='Test Button', icon='erase', style=ButtonStyle(), tooltip='Test Too…"
            ]
          },
          "metadata": {},
          "output_type": "display_data"
        },
        {
          "name": "stdout",
          "output_type": "stream",
          "text": [
            "\n",
            "Test case danger button\n"
          ]
        },
        {
          "data": {
            "application/vnd.jupyter.widget-view+json": {
              "model_id": "6f345559ce8f4e8681c8ac2799d49ce2",
              "version_major": 2,
              "version_minor": 0
            },
            "text/plain": [
              "Button(button_style='danger', description='Test Button', icon='erase', style=ButtonStyle(), tooltip='Test Tool…"
            ]
          },
          "metadata": {},
          "output_type": "display_data"
        },
        {
          "name": "stdout",
          "output_type": "stream",
          "text": [
            "\n",
            "Test case default button\n"
          ]
        },
        {
          "data": {
            "application/vnd.jupyter.widget-view+json": {
              "model_id": "1578a6723653446aaf486d113fafc3f0",
              "version_major": 2,
              "version_minor": 0
            },
            "text/plain": [
              "Button(description='Test Button', icon='erase', style=ButtonStyle(), tooltip='Test Tooltip')"
            ]
          },
          "metadata": {},
          "output_type": "display_data"
        }
      ],
      "source": [
        "#@title # ⚡ Run widget module test\n",
        "\n",
        "print(\"\\n---test button function---\\n\")\n",
        "def test_button(style=\"\"):\n",
        "    def test_function(*param):\n",
        "        print(f\"\\n[✔️] Button {style} clicked with parameters:\", param)\n",
        "    button = widget.button(\"Test Button\", \"Test Tooltip\", style, test_function, \"param1\", \"param2\")\n",
        "\n",
        "print(\"Test case primary button\")\n",
        "test_button(\"primary\")\n",
        "print(\"\\nTest case success button\")\n",
        "test_button(\"success\")\n",
        "print(\"\\nTest case info button\")\n",
        "test_button(\"info\")\n",
        "print(\"\\nTest case warning button\")\n",
        "test_button(\"warning\")\n",
        "print(\"\\nTest case danger button\")\n",
        "test_button(\"danger\")\n",
        "print(\"\\nTest case default button\")\n",
        "test_button()"
      ]
    },
    {
      "cell_type": "code",
      "execution_count": 50,
      "metadata": {
        "colab": {
          "base_uri": "https://localhost:8080/"
        },
        "id": "au2u774N2Ydb",
        "outputId": "81e7a944-c3bc-4d16-8246-db0193fc27e9"
      },
      "outputs": [
        {
          "name": "stdout",
          "output_type": "stream",
          "text": [
            "\n",
            "---test showMedia function---\n",
            "\n",
            "Test case play audio\n",
            "Test case play video\n",
            "\n",
            "---test get_duration function---\n",
            "\n",
            "[❌] \u001b[43m\u001b[101mTest case for media duration expected time: 59.72 real time: 0\u001b[0m\n",
            "[❌] \u001b[43m\u001b[101mTest case for media duration expected time: 59.769 real time: 0\u001b[0m\n",
            "\n",
            "---test get_video_resolution function---\n",
            "\n",
            "[✔️] Test case for video resolution\n",
            "[❌] \u001b[43m\u001b[101mTest case for audio resolution expected resolution: None actual resolution: (1080, 1920)\u001b[0m\n",
            "\n",
            "---test get_formatted_error function---\n",
            "\n",
            "[✔️] Test case to get formatted error\n",
            "[✔️] Test case if no error message\n",
            "\n",
            "---test run_process function---\n",
            "\n",
            "Converting hmo61X7kw04.mp4 to hmo61X7kw04.avi...\n",
            "File converted and saved as hmo61X7kw04.avi\n",
            "[✔️] Test case for process execution\n",
            "\n",
            "---test convert function---\n",
            "\n",
            "[✔️] Test case to convert video\n",
            "Converting hmo61X7kw04.m4a to hmo61X7kw04.wav...\n",
            "File converted and saved as hmo61X7kw04.wav\n",
            "[✔️] Test case to convert audio\n",
            "\n",
            "---test shorten function---\n",
            "\n",
            "Trimming hmo61X7kw04.mp4 to 20 seconds...\n",
            "File trimmed and saved as hmo61X7kw04_short.mp4\n",
            "[✔️] Test case for shorten video\n",
            "Trimming hmo61X7kw04.m4a to 20 seconds...\n",
            "File trimmed and saved as hmo61X7kw04_short.m4a\n",
            "[✔️] Test case for shorten audio\n",
            "\n",
            "---test resize_video function---\n",
            "\n",
            "Video resolution: (1080, 1920)\n",
            "Resizing video to 720p...\n",
            "File resized and saved as hmo61X7kw04_720p.mp4\n",
            "[✔️] Test case for video resizing\n",
            "Video resolution: (404, 720)\n",
            "No need to change the size\n",
            "[✔️] Test case for video resizing, not necessary\n"
          ]
        }
      ],
      "source": [
        "#@title # ⚡ Run media module test\n",
        "\n",
        "print(\"\\n---test showMedia function---\\n\")\n",
        "print(\"Test case play audio\")\n",
        "#media.showMedia(audio, \"audio\")\n",
        "print(\"Test case play video\")\n",
        "#media.showMedia(video, \"video\")\n",
        "#---------------------------------------------------\n",
        "print(\"\\n---test get_duration function---\\n\")\n",
        "dv = 0 #dv = media.get_duration(video)\n",
        "print(\"[✔️] Test case for media duration\" if dv == 59.72 else f\"[❌] \\033[43m\\033[101mTest case for media duration expected time: 59.72 real time: {dv}\\033[0m\")\n",
        "da = 0  #da = media.get_duration(audio)\n",
        "print(\"[✔️] Test case for media duration\" if da == 59.769 else f\"[❌] \\033[43m\\033[101mTest case for media duration expected time: 59.769 real time: {da}\\033[0m\")\n",
        "#---------------------------------------------------\n",
        "print(\"\\n---test get_video_resolution function---\\n\")\n",
        "r = media.get_video_resolution(video)\n",
        "print(\"[✔️] Test case for video resolution\" if r == (1080, 1920) else f\"[❌] \\033[43m\\033[101mTest case for video resolution expected resolution: 59,769 actual resolution: {r}\\033[0m\")\n",
        "#r = media.get_video_resolution(audio)\n",
        "print(\"[✔️] Test case for audio resolution\" if r == None else f\"[❌] \\033[43m\\033[101mTest case for audio resolution expected resolution: None actual resolution: {r}\\033[0m\")\n",
        "#---------------------------------------------------\n",
        "print(\"\\n---test get_formatted_error function---\\n\")\n",
        "stderr_output = b\"Error: Something went wrong\\nAnother comment occurred\"\n",
        "formatted_output = media.ffmpeg_err(stderr_output) # cambiar funcion por get_formatted_error\n",
        "expected_output = \"\\033[43m\\033[101mError: Something went wrong\\033[0m\"\n",
        "print(\"[✔️] Test case to get formatted error\" if expected_output == formatted_output else f\"[❌] \\033[43m\\033[101mTest case to get formatted error expected message: {expected_output} returned message: {formatted_output}\\033[0m\")\n",
        "stderr_output = b\"Something went wrong\\nAnother comment occurred\"\n",
        "formatted_output = media.ffmpeg_err(stderr_output) # cambiar funcion por get_formatted_error\n",
        "print(\"[✔️] Test case if no error message\" if None == formatted_output else f\"[❌] \\033[43m\\033[101mTest case if no error message, expected message: 'None' returned message: {formatted_output}\\033[0m\")\n",
        "#---------------------------------------------------\n",
        "print(\"\\n---test run_process function---\\n\")\n",
        "cv = media.ffmpeg_conv(video, video_conv) # cambiar funcion por convert\n",
        "print(\"[✔️] Test case for process execution\" if cv else f\"[❌] \\033[43m\\033[101mTest case for process execution\\033[0m\")\n",
        "#---------------------------------------------------\n",
        "print(\"\\n---test convert function---\\n\")\n",
        "print(\"[✔️] Test case to convert video\" if cv else f\"[❌] \\033[43m\\033[101mTest case to convert video\\033[0m\")\n",
        "ca = media.ffmpeg_conv(audio, audio_conv) # cambiar funcion por convert\n",
        "print(\"[✔️] Test case to convert audio\" if ca else f\"[❌] \\033[43m\\033[101mTest case to convert audio\\033[0m\")\n",
        "#---------------------------------------------------\n",
        "print(\"\\n---test shorten function---\\n\")\n",
        "sv = media.ffmpeg_trim(video, 0, 20, video_short) # cambiar funcion por shorten\n",
        "print(\"[✔️] Test case for shorten video\" if cv else f\"[❌] \\033[43m\\033[101mTest case for shorten video\\033[0m\")\n",
        "sa = media.ffmpeg_trim(audio, 0, 20, audio_short) # cambiar funcion por shorten\n",
        "print(\"[✔️] Test case for shorten audio\" if cv else f\"[❌] \\033[43m\\033[101mTest case for shorten audio\\033[0m\")\n",
        "#---------------------------------------------------\n",
        "print(\"\\n---test resize_video function---\\n\")\n",
        "rv = media.resize_video(video, 720)\n",
        "print(\"[✔️] Test case for video resizing\" if utils.file_exists(rv) and rv != video else \"[❌] \\033[43m\\033[101mTest case for video resizing\\033[0m\")\n",
        "rv = media.resize_video(rv, 720)\n",
        "print(\"[✔️] Test case for video resizing, not necessary\" if utils.file_exists(rv) and rv != video else \"[❌] \\033[43m\\033[101mTest case for video resizing, not necessary\\033[0m\")\n",
        "#rv = media.resize_video(audio, 720)"
      ]
    },
    {
      "cell_type": "code",
      "execution_count": 51,
      "metadata": {
        "colab": {
          "base_uri": "https://localhost:8080/",
          "height": 470
        },
        "id": "-S6vRs2PHKVm",
        "outputId": "d1b46716-46c9-49a3-b927-dd4bb9be8da0"
      },
      "outputs": [
        {
          "name": "stdout",
          "output_type": "stream",
          "text": [
            "\n",
            "---test get_audio and record function---\n",
            "\n"
          ]
        },
        {
          "data": {
            "text/html": [
              "\n",
              "<script>\n",
              "    var my_div = document.createElement(\"DIV\");\n",
              "    var recordButton = document.createElement(\"BUTTON\");\n",
              "\n",
              "    my_div.style.display = \"flex\";\n",
              "    my_div.style.flexDirection = \"column\";\n",
              "    my_div.style.gap = \"10px\";\n",
              "    my_div.style.alignItems = \"center\";\n",
              "    my_div.style.padding = \"10px\";\n",
              "\n",
              "    recordButton.style.backgroundColor = \"red\";\n",
              "    recordButton.style.color = \"white\";\n",
              "    recordButton.style.margin = \"0 auto\";\n",
              "    recordButton.style.border = \"none\";\n",
              "    recordButton.style.borderRadius = \"5px\";\n",
              "    recordButton.style.padding = \"5px 10px\";\n",
              "    recordButton.style.cursor = \"pointer\";\n",
              "\n",
              "    my_div.appendChild(recordButton);\n",
              "    document.body.appendChild(my_div);\n",
              "\n",
              "    var base64data = 0;\n",
              "    var reader;\n",
              "    var recorder, gumStream;\n",
              "\n",
              "    var handleSuccess = function (stream) {\n",
              "      gumStream = stream;\n",
              "      var options = {\n",
              "        mimeType: 'audio/webm;codecs=opus'\n",
              "      };\n",
              "      recorder = new MediaRecorder(stream);\n",
              "      recorder.ondataavailable = function (e) {\n",
              "        var url = URL.createObjectURL(e.data);\n",
              "        var preview = document.createElement('audio');\n",
              "        preview.controls = true;\n",
              "        preview.src = url;\n",
              "        my_div.appendChild(preview);\n",
              "\n",
              "        reader = new FileReader();\n",
              "        reader.readAsDataURL(e.data);\n",
              "        reader.onloadend = function () {\n",
              "          base64data = reader.result;\n",
              "        }\n",
              "      };\n",
              "      recorder.start();\n",
              "    };\n",
              "\n",
              "    recordButton.innerText = \"Recording... press to stop\";\n",
              "\n",
              "    navigator.mediaDevices.getUserMedia({ audio: true }).then(handleSuccess);\n",
              "\n",
              "\n",
              "    function toggleRecording() {\n",
              "      if (recorder && recorder.state == \"recording\") {\n",
              "        recordButton.innerText = \"Saving the recording... please wait!\"\n",
              "        recordButton.style.backgroundColor = \"yellow\";\n",
              "        recordButton.style.color = \"black\";\n",
              "        recorder.stop();\n",
              "        gumStream.getAudioTracks()[0].stop();\n",
              "      }\n",
              "    }\n",
              "\n",
              "    function sleep(ms) {\n",
              "      return new Promise(resolve => setTimeout(resolve, ms));\n",
              "    }\n",
              "\n",
              "    var data = new Promise(resolve => {\n",
              "      recordButton.onclick = () => {\n",
              "        toggleRecording()\n",
              "\n",
              "        sleep(2000).then(() => {\n",
              "          resolve(base64data.toString())\n",
              "        });\n",
              "      }\n",
              "    });\n",
              "\n",
              "  </script>\n"
            ],
            "text/plain": [
              "<IPython.core.display.HTML object>"
            ]
          },
          "metadata": {},
          "output_type": "display_data"
        },
        {
          "ename": "NameError",
          "evalue": "ignored",
          "output_type": "error",
          "traceback": [
            "\u001b[0;31m---------------------------------------------------------------------------\u001b[0m",
            "\u001b[0;31mNameError\u001b[0m                                 Traceback (most recent call last)",
            "\u001b[0;32m<ipython-input-51-0397cda73bca>\u001b[0m in \u001b[0;36m<cell line: 4>\u001b[0;34m()\u001b[0m\n\u001b[1;32m      2\u001b[0m \u001b[0;34m\u001b[0m\u001b[0m\n\u001b[1;32m      3\u001b[0m \u001b[0mprint\u001b[0m\u001b[0;34m(\u001b[0m\u001b[0;34m\"\\n---test get_audio and record function---\\n\"\u001b[0m\u001b[0;34m)\u001b[0m\u001b[0;34m\u001b[0m\u001b[0;34m\u001b[0m\u001b[0m\n\u001b[0;32m----> 4\u001b[0;31m \u001b[0mrecord\u001b[0m\u001b[0;34m.\u001b[0m\u001b[0mrecord\u001b[0m\u001b[0;34m(\u001b[0m\u001b[0;34m)\u001b[0m\u001b[0;34m\u001b[0m\u001b[0;34m\u001b[0m\u001b[0m\n\u001b[0m\u001b[1;32m      5\u001b[0m \u001b[0mprint\u001b[0m\u001b[0;34m(\u001b[0m\u001b[0;34m\"[✔️] Test case for audio recording\"\u001b[0m \u001b[0;32mif\u001b[0m \u001b[0mutils\u001b[0m\u001b[0;34m.\u001b[0m\u001b[0mfile_exists\u001b[0m\u001b[0;34m(\u001b[0m\u001b[0;34m\"record.wav\"\u001b[0m\u001b[0;34m)\u001b[0m \u001b[0;32melse\u001b[0m \u001b[0;34m\"[❌] \\033[43m\\033[101mTest case for audio recording\\033[0m\"\u001b[0m\u001b[0;34m)\u001b[0m\u001b[0;34m\u001b[0m\u001b[0;34m\u001b[0m\u001b[0m\n",
            "\u001b[0;32m/usr/local/lib/python3.10/dist-packages/ColabKit/record.py\u001b[0m in \u001b[0;36mrecord\u001b[0;34m(file_audio)\u001b[0m\n\u001b[1;32m     33\u001b[0m \u001b[0;34m\u001b[0m\u001b[0m\n\u001b[1;32m     34\u001b[0m \u001b[0;32mdef\u001b[0m \u001b[0mrecord\u001b[0m\u001b[0;34m(\u001b[0m\u001b[0mfile_audio\u001b[0m\u001b[0;34m=\u001b[0m\u001b[0;34m\"record.wav\"\u001b[0m\u001b[0;34m)\u001b[0m \u001b[0;34m->\u001b[0m \u001b[0;32mNone\u001b[0m\u001b[0;34m:\u001b[0m\u001b[0;34m\u001b[0m\u001b[0;34m\u001b[0m\u001b[0m\n\u001b[0;32m---> 35\u001b[0;31m     \u001b[0maudio\u001b[0m\u001b[0;34m,\u001b[0m \u001b[0msr\u001b[0m \u001b[0;34m=\u001b[0m \u001b[0mget_audio\u001b[0m\u001b[0;34m(\u001b[0m\u001b[0;34m)\u001b[0m\u001b[0;34m\u001b[0m\u001b[0;34m\u001b[0m\u001b[0m\n\u001b[0m\u001b[1;32m     36\u001b[0m     \u001b[0mwav_write\u001b[0m\u001b[0;34m(\u001b[0m\u001b[0mfile_audio\u001b[0m\u001b[0;34m,\u001b[0m \u001b[0msr\u001b[0m\u001b[0;34m,\u001b[0m \u001b[0maudio\u001b[0m\u001b[0;34m)\u001b[0m\u001b[0;34m\u001b[0m\u001b[0;34m\u001b[0m\u001b[0m\n\u001b[1;32m     37\u001b[0m     \u001b[0;32mif\u001b[0m \u001b[0mwait_for_file\u001b[0m\u001b[0;34m(\u001b[0m\u001b[0mfile_audio\u001b[0m\u001b[0;34m)\u001b[0m\u001b[0;34m:\u001b[0m\u001b[0;34m\u001b[0m\u001b[0;34m\u001b[0m\u001b[0m\n",
            "\u001b[0;32m/usr/local/lib/python3.10/dist-packages/ColabKit/record.py\u001b[0m in \u001b[0;36mget_audio\u001b[0;34m()\u001b[0m\n\u001b[1;32m     12\u001b[0m \u001b[0;32mdef\u001b[0m \u001b[0mget_audio\u001b[0m\u001b[0;34m(\u001b[0m\u001b[0;34m)\u001b[0m \u001b[0;34m->\u001b[0m \u001b[0mtuple\u001b[0m\u001b[0;34m:\u001b[0m\u001b[0;34m\u001b[0m\u001b[0;34m\u001b[0m\u001b[0m\n\u001b[1;32m     13\u001b[0m     \u001b[0mdisplay\u001b[0m\u001b[0;34m(\u001b[0m\u001b[0mHTML\u001b[0m\u001b[0;34m(\u001b[0m\u001b[0mAUDIO_RECORD\u001b[0m\u001b[0;34m)\u001b[0m\u001b[0;34m)\u001b[0m\u001b[0;34m\u001b[0m\u001b[0;34m\u001b[0m\u001b[0m\n\u001b[0;32m---> 14\u001b[0;31m     \u001b[0mdata\u001b[0m \u001b[0;34m=\u001b[0m \u001b[0meval_js\u001b[0m\u001b[0;34m(\u001b[0m\u001b[0;34m\"data\"\u001b[0m\u001b[0;34m)\u001b[0m\u001b[0;34m\u001b[0m\u001b[0;34m\u001b[0m\u001b[0m\n\u001b[0m\u001b[1;32m     15\u001b[0m     \u001b[0mbinary\u001b[0m \u001b[0;34m=\u001b[0m \u001b[0mb64decode\u001b[0m\u001b[0;34m(\u001b[0m\u001b[0mdata\u001b[0m\u001b[0;34m.\u001b[0m\u001b[0msplit\u001b[0m\u001b[0;34m(\u001b[0m\u001b[0;34m','\u001b[0m\u001b[0;34m)\u001b[0m\u001b[0;34m[\u001b[0m\u001b[0;36m1\u001b[0m\u001b[0;34m]\u001b[0m\u001b[0;34m)\u001b[0m\u001b[0;34m\u001b[0m\u001b[0;34m\u001b[0m\u001b[0m\n\u001b[1;32m     16\u001b[0m     process = (\n",
            "\u001b[0;31mNameError\u001b[0m: name 'eval_js' is not defined"
          ]
        }
      ],
      "source": [
        "#@title # ⚡ Run record module test\n",
        "\n",
        "print(\"\\n---test get_audio and record function---\\n\")\n",
        "record.record()\n",
        "print(\"[✔️] Test case for audio recording\" if utils.file_exists(\"record.wav\") else \"[❌] \\033[43m\\033[101mTest case for audio recording\\033[0m\")"
      ]
    }
  ],
  "metadata": {
    "colab": {
      "provenance": []
    },
    "kernelspec": {
      "display_name": "Python 3",
      "name": "python3"
    },
    "language_info": {
      "name": "python"
    },
    "widgets": {
      "application/vnd.jupyter.widget-state+json": {
        "1578a6723653446aaf486d113fafc3f0": {
          "model_module": "@jupyter-widgets/controls",
          "model_module_version": "1.5.0",
          "model_name": "ButtonModel",
          "state": {
            "_dom_classes": [],
            "_model_module": "@jupyter-widgets/controls",
            "_model_module_version": "1.5.0",
            "_model_name": "ButtonModel",
            "_view_count": null,
            "_view_module": "@jupyter-widgets/controls",
            "_view_module_version": "1.5.0",
            "_view_name": "ButtonView",
            "button_style": "",
            "description": "Test Button",
            "disabled": false,
            "icon": "erase",
            "layout": "IPY_MODEL_b5cf31229c434023b2ec1563cfbce9d9",
            "style": "IPY_MODEL_4002114580ae4cb3a23913fcdfebfc39",
            "tooltip": "Test Tooltip"
          }
        },
        "17cf56026dca460b855ade3835f40d3b": {
          "model_module": "@jupyter-widgets/controls",
          "model_module_version": "1.5.0",
          "model_name": "ButtonStyleModel",
          "state": {
            "_model_module": "@jupyter-widgets/controls",
            "_model_module_version": "1.5.0",
            "_model_name": "ButtonStyleModel",
            "_view_count": null,
            "_view_module": "@jupyter-widgets/base",
            "_view_module_version": "1.2.0",
            "_view_name": "StyleView",
            "button_color": null,
            "font_weight": ""
          }
        },
        "1a073c1070304def998349c62ea1df13": {
          "model_module": "@jupyter-widgets/base",
          "model_module_version": "1.2.0",
          "model_name": "LayoutModel",
          "state": {
            "_model_module": "@jupyter-widgets/base",
            "_model_module_version": "1.2.0",
            "_model_name": "LayoutModel",
            "_view_count": null,
            "_view_module": "@jupyter-widgets/base",
            "_view_module_version": "1.2.0",
            "_view_name": "LayoutView",
            "align_content": null,
            "align_items": null,
            "align_self": null,
            "border": null,
            "bottom": null,
            "display": null,
            "flex": null,
            "flex_flow": null,
            "grid_area": null,
            "grid_auto_columns": null,
            "grid_auto_flow": null,
            "grid_auto_rows": null,
            "grid_column": null,
            "grid_gap": null,
            "grid_row": null,
            "grid_template_areas": null,
            "grid_template_columns": null,
            "grid_template_rows": null,
            "height": null,
            "justify_content": null,
            "justify_items": null,
            "left": null,
            "margin": null,
            "max_height": null,
            "max_width": null,
            "min_height": null,
            "min_width": null,
            "object_fit": null,
            "object_position": null,
            "order": null,
            "overflow": null,
            "overflow_x": null,
            "overflow_y": null,
            "padding": null,
            "right": null,
            "top": null,
            "visibility": null,
            "width": null
          }
        },
        "4002114580ae4cb3a23913fcdfebfc39": {
          "model_module": "@jupyter-widgets/controls",
          "model_module_version": "1.5.0",
          "model_name": "ButtonStyleModel",
          "state": {
            "_model_module": "@jupyter-widgets/controls",
            "_model_module_version": "1.5.0",
            "_model_name": "ButtonStyleModel",
            "_view_count": null,
            "_view_module": "@jupyter-widgets/base",
            "_view_module_version": "1.2.0",
            "_view_name": "StyleView",
            "button_color": null,
            "font_weight": ""
          }
        },
        "41468c8a1dc1447a9e5a17ff4f27c733": {
          "model_module": "@jupyter-widgets/controls",
          "model_module_version": "1.5.0",
          "model_name": "ButtonStyleModel",
          "state": {
            "_model_module": "@jupyter-widgets/controls",
            "_model_module_version": "1.5.0",
            "_model_name": "ButtonStyleModel",
            "_view_count": null,
            "_view_module": "@jupyter-widgets/base",
            "_view_module_version": "1.2.0",
            "_view_name": "StyleView",
            "button_color": null,
            "font_weight": ""
          }
        },
        "4b6d59e48de844978bed4360de25528f": {
          "model_module": "@jupyter-widgets/base",
          "model_module_version": "1.2.0",
          "model_name": "LayoutModel",
          "state": {
            "_model_module": "@jupyter-widgets/base",
            "_model_module_version": "1.2.0",
            "_model_name": "LayoutModel",
            "_view_count": null,
            "_view_module": "@jupyter-widgets/base",
            "_view_module_version": "1.2.0",
            "_view_name": "LayoutView",
            "align_content": null,
            "align_items": null,
            "align_self": null,
            "border": null,
            "bottom": null,
            "display": null,
            "flex": null,
            "flex_flow": null,
            "grid_area": null,
            "grid_auto_columns": null,
            "grid_auto_flow": null,
            "grid_auto_rows": null,
            "grid_column": null,
            "grid_gap": null,
            "grid_row": null,
            "grid_template_areas": null,
            "grid_template_columns": null,
            "grid_template_rows": null,
            "height": null,
            "justify_content": null,
            "justify_items": null,
            "left": null,
            "margin": null,
            "max_height": null,
            "max_width": null,
            "min_height": null,
            "min_width": null,
            "object_fit": null,
            "object_position": null,
            "order": null,
            "overflow": null,
            "overflow_x": null,
            "overflow_y": null,
            "padding": null,
            "right": null,
            "top": null,
            "visibility": null,
            "width": null
          }
        },
        "4eb46dbdfa1d4f19bac0ff5c818b07ea": {
          "model_module": "@jupyter-widgets/base",
          "model_module_version": "1.2.0",
          "model_name": "LayoutModel",
          "state": {
            "_model_module": "@jupyter-widgets/base",
            "_model_module_version": "1.2.0",
            "_model_name": "LayoutModel",
            "_view_count": null,
            "_view_module": "@jupyter-widgets/base",
            "_view_module_version": "1.2.0",
            "_view_name": "LayoutView",
            "align_content": null,
            "align_items": null,
            "align_self": null,
            "border": null,
            "bottom": null,
            "display": null,
            "flex": null,
            "flex_flow": null,
            "grid_area": null,
            "grid_auto_columns": null,
            "grid_auto_flow": null,
            "grid_auto_rows": null,
            "grid_column": null,
            "grid_gap": null,
            "grid_row": null,
            "grid_template_areas": null,
            "grid_template_columns": null,
            "grid_template_rows": null,
            "height": null,
            "justify_content": null,
            "justify_items": null,
            "left": null,
            "margin": null,
            "max_height": null,
            "max_width": null,
            "min_height": null,
            "min_width": null,
            "object_fit": null,
            "object_position": null,
            "order": null,
            "overflow": null,
            "overflow_x": null,
            "overflow_y": null,
            "padding": null,
            "right": null,
            "top": null,
            "visibility": null,
            "width": null
          }
        },
        "5b93df92d73d4c589933a8f67d552c5b": {
          "model_module": "@jupyter-widgets/base",
          "model_module_version": "1.2.0",
          "model_name": "LayoutModel",
          "state": {
            "_model_module": "@jupyter-widgets/base",
            "_model_module_version": "1.2.0",
            "_model_name": "LayoutModel",
            "_view_count": null,
            "_view_module": "@jupyter-widgets/base",
            "_view_module_version": "1.2.0",
            "_view_name": "LayoutView",
            "align_content": null,
            "align_items": null,
            "align_self": null,
            "border": null,
            "bottom": null,
            "display": null,
            "flex": null,
            "flex_flow": null,
            "grid_area": null,
            "grid_auto_columns": null,
            "grid_auto_flow": null,
            "grid_auto_rows": null,
            "grid_column": null,
            "grid_gap": null,
            "grid_row": null,
            "grid_template_areas": null,
            "grid_template_columns": null,
            "grid_template_rows": null,
            "height": null,
            "justify_content": null,
            "justify_items": null,
            "left": null,
            "margin": null,
            "max_height": null,
            "max_width": null,
            "min_height": null,
            "min_width": null,
            "object_fit": null,
            "object_position": null,
            "order": null,
            "overflow": null,
            "overflow_x": null,
            "overflow_y": null,
            "padding": null,
            "right": null,
            "top": null,
            "visibility": null,
            "width": null
          }
        },
        "6f345559ce8f4e8681c8ac2799d49ce2": {
          "model_module": "@jupyter-widgets/controls",
          "model_module_version": "1.5.0",
          "model_name": "ButtonModel",
          "state": {
            "_dom_classes": [],
            "_model_module": "@jupyter-widgets/controls",
            "_model_module_version": "1.5.0",
            "_model_name": "ButtonModel",
            "_view_count": null,
            "_view_module": "@jupyter-widgets/controls",
            "_view_module_version": "1.5.0",
            "_view_name": "ButtonView",
            "button_style": "danger",
            "description": "Test Button",
            "disabled": false,
            "icon": "erase",
            "layout": "IPY_MODEL_4eb46dbdfa1d4f19bac0ff5c818b07ea",
            "style": "IPY_MODEL_17cf56026dca460b855ade3835f40d3b",
            "tooltip": "Test Tooltip"
          }
        },
        "8459b58a9edc42a4b18401d047005d6d": {
          "model_module": "@jupyter-widgets/controls",
          "model_module_version": "1.5.0",
          "model_name": "ButtonModel",
          "state": {
            "_dom_classes": [],
            "_model_module": "@jupyter-widgets/controls",
            "_model_module_version": "1.5.0",
            "_model_name": "ButtonModel",
            "_view_count": null,
            "_view_module": "@jupyter-widgets/controls",
            "_view_module_version": "1.5.0",
            "_view_name": "ButtonView",
            "button_style": "primary",
            "description": "Test Button",
            "disabled": false,
            "icon": "erase",
            "layout": "IPY_MODEL_5b93df92d73d4c589933a8f67d552c5b",
            "style": "IPY_MODEL_41468c8a1dc1447a9e5a17ff4f27c733",
            "tooltip": "Test Tooltip"
          }
        },
        "98f7eaa5090342cf9c2bac0e66369d46": {
          "model_module": "@jupyter-widgets/controls",
          "model_module_version": "1.5.0",
          "model_name": "ButtonStyleModel",
          "state": {
            "_model_module": "@jupyter-widgets/controls",
            "_model_module_version": "1.5.0",
            "_model_name": "ButtonStyleModel",
            "_view_count": null,
            "_view_module": "@jupyter-widgets/base",
            "_view_module_version": "1.2.0",
            "_view_name": "StyleView",
            "button_color": null,
            "font_weight": ""
          }
        },
        "b5cf31229c434023b2ec1563cfbce9d9": {
          "model_module": "@jupyter-widgets/base",
          "model_module_version": "1.2.0",
          "model_name": "LayoutModel",
          "state": {
            "_model_module": "@jupyter-widgets/base",
            "_model_module_version": "1.2.0",
            "_model_name": "LayoutModel",
            "_view_count": null,
            "_view_module": "@jupyter-widgets/base",
            "_view_module_version": "1.2.0",
            "_view_name": "LayoutView",
            "align_content": null,
            "align_items": null,
            "align_self": null,
            "border": null,
            "bottom": null,
            "display": null,
            "flex": null,
            "flex_flow": null,
            "grid_area": null,
            "grid_auto_columns": null,
            "grid_auto_flow": null,
            "grid_auto_rows": null,
            "grid_column": null,
            "grid_gap": null,
            "grid_row": null,
            "grid_template_areas": null,
            "grid_template_columns": null,
            "grid_template_rows": null,
            "height": null,
            "justify_content": null,
            "justify_items": null,
            "left": null,
            "margin": null,
            "max_height": null,
            "max_width": null,
            "min_height": null,
            "min_width": null,
            "object_fit": null,
            "object_position": null,
            "order": null,
            "overflow": null,
            "overflow_x": null,
            "overflow_y": null,
            "padding": null,
            "right": null,
            "top": null,
            "visibility": null,
            "width": null
          }
        },
        "ce58f4c95c474f54bdf8ddc379b7cb93": {
          "model_module": "@jupyter-widgets/base",
          "model_module_version": "1.2.0",
          "model_name": "LayoutModel",
          "state": {
            "_model_module": "@jupyter-widgets/base",
            "_model_module_version": "1.2.0",
            "_model_name": "LayoutModel",
            "_view_count": null,
            "_view_module": "@jupyter-widgets/base",
            "_view_module_version": "1.2.0",
            "_view_name": "LayoutView",
            "align_content": null,
            "align_items": null,
            "align_self": null,
            "border": null,
            "bottom": null,
            "display": null,
            "flex": null,
            "flex_flow": null,
            "grid_area": null,
            "grid_auto_columns": null,
            "grid_auto_flow": null,
            "grid_auto_rows": null,
            "grid_column": null,
            "grid_gap": null,
            "grid_row": null,
            "grid_template_areas": null,
            "grid_template_columns": null,
            "grid_template_rows": null,
            "height": null,
            "justify_content": null,
            "justify_items": null,
            "left": null,
            "margin": null,
            "max_height": null,
            "max_width": null,
            "min_height": null,
            "min_width": null,
            "object_fit": null,
            "object_position": null,
            "order": null,
            "overflow": null,
            "overflow_x": null,
            "overflow_y": null,
            "padding": null,
            "right": null,
            "top": null,
            "visibility": null,
            "width": null
          }
        },
        "cf5e7281c1a5478c9f3577fa5b843328": {
          "model_module": "@jupyter-widgets/controls",
          "model_module_version": "1.5.0",
          "model_name": "ButtonStyleModel",
          "state": {
            "_model_module": "@jupyter-widgets/controls",
            "_model_module_version": "1.5.0",
            "_model_name": "ButtonStyleModel",
            "_view_count": null,
            "_view_module": "@jupyter-widgets/base",
            "_view_module_version": "1.2.0",
            "_view_name": "StyleView",
            "button_color": null,
            "font_weight": ""
          }
        },
        "f1e4a9184687449386eade2d865a8371": {
          "model_module": "@jupyter-widgets/controls",
          "model_module_version": "1.5.0",
          "model_name": "ButtonModel",
          "state": {
            "_dom_classes": [],
            "_model_module": "@jupyter-widgets/controls",
            "_model_module_version": "1.5.0",
            "_model_name": "ButtonModel",
            "_view_count": null,
            "_view_module": "@jupyter-widgets/controls",
            "_view_module_version": "1.5.0",
            "_view_name": "ButtonView",
            "button_style": "success",
            "description": "Test Button",
            "disabled": false,
            "icon": "erase",
            "layout": "IPY_MODEL_1a073c1070304def998349c62ea1df13",
            "style": "IPY_MODEL_98f7eaa5090342cf9c2bac0e66369d46",
            "tooltip": "Test Tooltip"
          }
        },
        "f36562c462324ea088ebb2a7cac62bfc": {
          "model_module": "@jupyter-widgets/controls",
          "model_module_version": "1.5.0",
          "model_name": "ButtonModel",
          "state": {
            "_dom_classes": [],
            "_model_module": "@jupyter-widgets/controls",
            "_model_module_version": "1.5.0",
            "_model_name": "ButtonModel",
            "_view_count": null,
            "_view_module": "@jupyter-widgets/controls",
            "_view_module_version": "1.5.0",
            "_view_name": "ButtonView",
            "button_style": "warning",
            "description": "Test Button",
            "disabled": false,
            "icon": "erase",
            "layout": "IPY_MODEL_4b6d59e48de844978bed4360de25528f",
            "style": "IPY_MODEL_fd1b4dcd51654aa682260fad4be285a1",
            "tooltip": "Test Tooltip"
          }
        },
        "fc61295f3fd6454696a20c109edce15e": {
          "model_module": "@jupyter-widgets/controls",
          "model_module_version": "1.5.0",
          "model_name": "ButtonModel",
          "state": {
            "_dom_classes": [],
            "_model_module": "@jupyter-widgets/controls",
            "_model_module_version": "1.5.0",
            "_model_name": "ButtonModel",
            "_view_count": null,
            "_view_module": "@jupyter-widgets/controls",
            "_view_module_version": "1.5.0",
            "_view_name": "ButtonView",
            "button_style": "info",
            "description": "Test Button",
            "disabled": false,
            "icon": "erase",
            "layout": "IPY_MODEL_ce58f4c95c474f54bdf8ddc379b7cb93",
            "style": "IPY_MODEL_cf5e7281c1a5478c9f3577fa5b843328",
            "tooltip": "Test Tooltip"
          }
        },
        "fd1b4dcd51654aa682260fad4be285a1": {
          "model_module": "@jupyter-widgets/controls",
          "model_module_version": "1.5.0",
          "model_name": "ButtonStyleModel",
          "state": {
            "_model_module": "@jupyter-widgets/controls",
            "_model_module_version": "1.5.0",
            "_model_name": "ButtonStyleModel",
            "_view_count": null,
            "_view_module": "@jupyter-widgets/base",
            "_view_module_version": "1.2.0",
            "_view_name": "StyleView",
            "button_color": null,
            "font_weight": ""
          }
        }
      }
    }
  },
  "nbformat": 4,
  "nbformat_minor": 0
}
