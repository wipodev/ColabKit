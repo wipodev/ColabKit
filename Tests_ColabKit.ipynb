{
  "cells": [
    {
      "cell_type": "markdown",
      "metadata": {
        "id": "view-in-github",
        "colab_type": "text"
      },
      "source": [
        "<a href=\"https://colab.research.google.com/github/wipodev/ColabKit/blob/main/Tests_ColabKit.ipynb\" target=\"_parent\"><img src=\"https://colab.research.google.com/assets/colab-badge.svg\" alt=\"Open In Colab\"/></a>"
      ]
    },
    {
      "cell_type": "markdown",
      "metadata": {
        "id": "M8Ek_V6YoxVr"
      },
      "source": [
        "# 🧪 Tests ColabKit\n",
        "\n",
        "- ColabKit is a Python library designed to improve the experience of working in Google Colab environments.\n",
        "\n",
        "- This Colab is only for demonstration and testing of the library"
      ]
    },
    {
      "cell_type": "code",
      "execution_count": null,
      "metadata": {
        "cellView": "form",
        "id": "7w_ZwKT9oPHG"
      },
      "outputs": [],
      "source": [
        "#@title # 📦 Install library\n",
        "\n",
        "from IPython.display import clear_output\n",
        "\n",
        "#!pip install jedi # I found a conflict with the version of this library when installing from test.pypi.org, for this reason I installed it first from pypi.org\n",
        "#!pip install ffmpeg-python # I found a conflict with the version of this library when installing from test.pypi.org, for this reason I installed it first from pypi.org\n",
        "!pip install yt-dlp\n",
        "clear_output()\n",
        "#!pip install -i https://test.pypi.org/simple/ ColabKit\n",
        "!pip install ColabKit"
      ]
    },
    {
      "cell_type": "code",
      "execution_count": null,
      "metadata": {
        "cellView": "form",
        "id": "wrhNFgVOuhK-"
      },
      "outputs": [],
      "source": [
        "#@title # 🗂️ Imports library\n",
        "\n",
        "from ColabKit import media, record, utils, widget\n",
        "import yt_dlp"
      ]
    },
    {
      "cell_type": "code",
      "execution_count": null,
      "metadata": {
        "cellView": "form",
        "id": "oP6RDeQ92E_4"
      },
      "outputs": [],
      "source": [
        "#@title # ⚙️ Configure environment for testing\n",
        "\n",
        "with open(\"test.txt\", 'w') as test:\n",
        "    pass\n",
        "\n",
        "ydl_opts = {'format': 'bestvideo[ext=mp4],bestaudio[ext=m4a]', 'outtmpl': '%(id)s.%(ext)s',}\n",
        "with yt_dlp.YoutubeDL(ydl_opts) as ydl:\n",
        "    info = ydl.extract_info(\"https://www.youtube.com/shorts/hmo61X7kw04\")\n",
        "    video = f\"{info['id']}.mp4\"\n",
        "    audio = f\"{info['id']}.m4a\"\n",
        "    video_conv = f\"{info['id']}.avi\"\n",
        "    audio_conv = f\"{info['id']}.wav\"\n",
        "    video_short = f\"{info['id']}_short.mp4\"\n",
        "    audio_short = f\"{info['id']}_short.m4a\"\n",
        "\n",
        "clear_output()"
      ]
    },
    {
      "cell_type": "code",
      "execution_count": null,
      "metadata": {
        "id": "sf2c0ll_5Cl0",
        "cellView": "form"
      },
      "outputs": [],
      "source": [
        "#@title # ⚡ Run utils module test\n",
        "\n",
        "print(\"\\n---test wait_for_file function---\\n\")\n",
        "print(\"[✔️] Test case wait for file\" if utils.wait_for_file(\"test.txt\", 10) else \"[❌] \\033[43m\\033[101mTest case wait for file\\033[0m\")\n",
        "#---------------------------------------------------\n",
        "print(\"\\n---test file_exists function---\\n\")\n",
        "print(\"[✔️] Test case for an existing file\" if utils.file_exists(\"test.txt\") else \"[❌] \\033[43m\\033[101mTest case for an existing file\\033[0m\")\n",
        "print(\"[✔️] Test case for a non-existing file\" if not utils.file_exists(\"non-existing/test.txt\") else \"[❌] \\033[43m\\033[101mTest case for a non-existing file\\033[0m\")\n",
        "print(\"[✔️] Test case for a directory\" if utils.file_exists(\"/content\") else \"[❌] \\033[43m\\033[101mTest case for a directory\\033[0m\")\n",
        "print(\"[✔️] Test case for a non-existing directory\" if not utils.file_exists(\"/test\") else \"[❌] \\033[43m\\033[101mTest case for a non-existing directory\\033[0m\")\n",
        "#---------------------------------------------------\n",
        "print(\"\\n---test remove_file function---\\n\")\n",
        "utils.remove_file(\"test.txt\")\n",
        "print(\"[✔️] Test removing a existing file\" if not utils.file_exists(\"test.txt\") else \"[❌] \\033[43m\\033[101mTest removing a existing file\\033[0m\")\n",
        "print(\"[✔️] Test removing a non-existing file\" if not utils.file_exists(\"test.txt\") else \"[❌] \\033[43m\\033[101mTest removing a non-existing file\\033[0m\")\n",
        "#---------------------------------------------------\n",
        "print(\"\\n---test mount_drive function---\\n\")\n",
        "utils.mount_drive()\n",
        "print(\"[✔️] Test case for mounting drive\" if utils.file_exists(\"/content/drive/MyDrive\") else \"[❌] \\033[43m\\033[101mTest case for mounting drive\\033[0m\")\n",
        "#---------------------------------------------------\n",
        "print(\"\\n---test upload_file function---\\n\")\n",
        "utils.upload_file(\"upload_file.txt\")\n",
        "print(\"[✔️] Test case for upload file\" if utils.file_exists(\"upload_file.txt\") else \"[❌] \\033[43m\\033[101mTest case for upload file\\033[0m\")"
      ]
    },
    {
      "cell_type": "code",
      "execution_count": null,
      "metadata": {
        "id": "heEnaBh1w7D8",
        "cellView": "form"
      },
      "outputs": [],
      "source": [
        "#@title # ⚡ Run widget module test\n",
        "\n",
        "print(\"\\n---test button function---\\n\")\n",
        "def test_button(style=\"\"):\n",
        "    def test_function(*param):\n",
        "        print(f\"\\n[✔️] Button {style} clicked with parameters:\", param)\n",
        "    button = widget.button(\"Test Button\", \"Test Tooltip\", style, test_function, \"param1\", \"param2\")\n",
        "\n",
        "print(\"Test case primary button\")\n",
        "test_button(\"primary\")\n",
        "print(\"\\nTest case success button\")\n",
        "test_button(\"success\")\n",
        "print(\"\\nTest case info button\")\n",
        "test_button(\"info\")\n",
        "print(\"\\nTest case warning button\")\n",
        "test_button(\"warning\")\n",
        "print(\"\\nTest case danger button\")\n",
        "test_button(\"danger\")\n",
        "print(\"\\nTest case default button\")\n",
        "test_button()"
      ]
    },
    {
      "cell_type": "code",
      "execution_count": null,
      "metadata": {
        "id": "au2u774N2Ydb",
        "cellView": "form"
      },
      "outputs": [],
      "source": [
        "#@title # ⚡ Run media module test\n",
        "\n",
        "print(\"\\n---test get_duration function---\\n\")\n",
        "dv = media.get_duration(video)\n",
        "print(\"[✔️] Test case for media duration\" if dv == 59.72 else f\"[❌] \\033[43m\\033[101mTest case for media duration expected time: 59.72 real time: {dv}\\033[0m\")\n",
        "da = media.get_duration(audio)\n",
        "print(\"[✔️] Test case for media duration\" if da == 59.769 else f\"[❌] \\033[43m\\033[101mTest case for media duration expected time: 59.769 real time: {da}\\033[0m\")\n",
        "#---------------------------------------------------\n",
        "print(\"\\n---test get_video_resolution function---\\n\")\n",
        "r = media.get_video_resolution(video)\n",
        "print(\"[✔️] Test case for video resolution\\n\" if r == (1080, 1920) else f\"[❌] \\033[43m\\033[101mTest case for video resolution expected resolution: 59,769 actual resolution: {r}\\033[0m\\n\")\n",
        "r = media.get_video_resolution(audio)\n",
        "print(\"[✔️] Test case for audio resolution\" if r == None else f\"[❌] \\033[43m\\033[101mTest case for audio resolution expected resolution: None actual resolution: {r}\\033[0m\")\n",
        "#---------------------------------------------------\n",
        "print(\"\\n---test get_formatted_error function---\\n\")\n",
        "stderr_output = b\"Error: Something went wrong\\nAnother comment occurred\"\n",
        "formatted_output = media.get_formatted_error(stderr_output)\n",
        "expected_output = \"\\033[43m\\033[101mError: Something went wrong\\033[0m\"\n",
        "print(\"[✔️] Test case to get formatted error\" if expected_output == formatted_output else f\"[❌] \\033[43m\\033[101mTest case to get formatted error expected message: {expected_output} returned message: {formatted_output}\\033[0m\")\n",
        "stderr_output = b\"Something went wrong\\nAnother comment occurred\"\n",
        "formatted_output = media.get_formatted_error(stderr_output)\n",
        "print(\"[✔️] Test case if no error message\" if None == formatted_output else f\"[❌] \\033[43m\\033[101mTest case if no error message, expected message: 'None' returned message: {formatted_output}\\033[0m\")\n",
        "#---------------------------------------------------\n",
        "print(\"\\n---test run_process function---\\n\")\n",
        "sv = media.shorten(video, 0 , 10, video_short)\n",
        "print(\"[✔️] Test case for process execution\" if sv else f\"[❌] \\033[43m\\033[101mTest case for process execution\\033[0m\")\n",
        "#---------------------------------------------------\n",
        "print(\"\\n---test shorten function---\\n\")\n",
        "print(\"[✔️] Test case for shorten video\\n\" if sv else f\"[❌] \\033[43m\\033[101mTest case for shorten video\\033[0m\\n\")\n",
        "sa = media.shorten(audio, 0, 10, audio_short)\n",
        "print(\"[✔️] Test case for shorten audio\" if sa else f\"[❌] \\033[43m\\033[101mTest case for shorten audio\\033[0m\")\n",
        "#---------------------------------------------------\n",
        "print(\"\\n---test convert function---\\n\")\n",
        "cv = media.convert(video_short, video_conv)\n",
        "print(\"[✔️] Test case to convert video\\n\" if cv else f\"[❌] \\033[43m\\033[101mTest case to convert video\\033[0m\\n\")\n",
        "ca = media.convert(audio_short, audio_conv)\n",
        "print(\"[✔️] Test case to convert audio\" if ca else f\"[❌] \\033[43m\\033[101mTest case to convert audio\\033[0m\")\n",
        "#---------------------------------------------------\n",
        "print(\"\\n---test resize_video function---\\n\")\n",
        "rv1 = media.resize_video(video_short, 720)\n",
        "print(\"[✔️] Test case for video resizing\\n\" if utils.file_exists(rv1) and rv1 != video else \"[❌] \\033[43m\\033[101mTest case for video resizing\\033[0m\\n\")\n",
        "rv2 = media.resize_video(rv1, 720)\n",
        "print(\"[✔️] Test case for video resizing, not necessary\\n\" if rv2 == rv1 else \"[❌] \\033[43m\\033[101mTest case for video resizing, not necessary\\033[0m\\n\")\n",
        "rv3 = media.resize_video(audio, 720)\n",
        "print(\"[✔️] Test case to change video size, invalid file\" if not rv3 else \"[❌] \\033[43m\\033[101mTest case to change video size, invalid file\\033[0m\")\n",
        "#---------------------------------------------------\n",
        "print(\"\\n---test showMedia function---\\n\")\n",
        "print(\"Test case play audio\")\n",
        "media.showMedia(audio_short, \"audio\")\n",
        "print(\"Test case play video\")\n",
        "media.showMedia(video_short, \"video\")"
      ]
    },
    {
      "cell_type": "code",
      "source": [
        "#@title # ⚡ Run record module test\n",
        "\n",
        "print(\"\\n---test get_audio and record function---\\n\")\n",
        "record.record()\n",
        "print(\"[✔️] Test case for audio recording\" if utils.file_exists(\"record.wav\") else \"[❌] \\033[43m\\033[101mTest case for audio recording\\033[0m\")"
      ],
      "metadata": {
        "id": "-S6vRs2PHKVm",
        "cellView": "form"
      },
      "execution_count": null,
      "outputs": []
    }
  ],
  "metadata": {
    "colab": {
      "provenance": [],
      "authorship_tag": "ABX9TyMF2MegfiOEbowXSFtWJwtb",
      "include_colab_link": true
    },
    "kernelspec": {
      "display_name": "Python 3",
      "name": "python3"
    },
    "language_info": {
      "name": "python"
    }
  },
  "nbformat": 4,
  "nbformat_minor": 0
}